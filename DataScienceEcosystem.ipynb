{
  "nbformat": 4,
  "nbformat_minor": 0,
  "metadata": {
    "colab": {
      "provenance": []
    },
    "kernelspec": {
      "name": "python3",
      "display_name": "Python 3"
    },
    "language_info": {
      "name": "python"
    }
  },
  "cells": [
    {
      "cell_type": "markdown",
      "source": [
        "# Data Science Tools and Ecosystem"
      ],
      "metadata": {
        "id": "maas9WS-KX-s"
      }
    },
    {
      "cell_type": "markdown",
      "source": [
        "## Introduction\n",
        "In this notebook, we will explore various tools and ecosystems used in Data Science. We will cover programming languages, libraries, and tools that are essential for data scientists. Additionally, we will include examples of arithmetic expressions and simple code cells to demonstrate basic operations."
      ],
      "metadata": {
        "id": "JgL16EicKcgN"
      }
    },
    {
      "cell_type": "markdown",
      "source": [
        "**Objectives**\n",
        "\n",
        "\n",
        "\n",
        "*   Understand the basic tools and languages used in Data Science.\n",
        "*   Learn about key libraries for data manipulation and machine learning.\n",
        "*   Explore arithmetic expressions through simple code examples.\n",
        "*   Familiarize with different Data Science tools and their applications.\n",
        "\n"
      ],
      "metadata": {
        "id": "POOqvMP6NZuR"
      }
    },
    {
      "cell_type": "markdown",
      "source": [
        "## Data Science Languages\n",
        "1. Python\n",
        "2. R\n",
        "3. SQL\n",
        "4. Julia\n",
        "5. Java\n",
        "6. Scala"
      ],
      "metadata": {
        "id": "Yw5UIqAGKiLO"
      }
    },
    {
      "cell_type": "markdown",
      "source": [
        "## Data Science Libraries\n",
        "1. Pandas\n",
        "2. NumPy\n",
        "3. Matplotlib\n",
        "4. Seaborn\n",
        "5. Scikit-learn\n",
        "6. TensorFlow\n",
        "7. Keras\n",
        "8. PyTorch"
      ],
      "metadata": {
        "id": "Hy-enIWyKmSw"
      }
    },
    {
      "cell_type": "markdown",
      "source": [
        "## Data Science Tools\n",
        "| Tool            | Description                                     |\n",
        "|-----------------|-------------------------------------------------|\n",
        "| Jupyter Notebook| Interactive computing environment               |\n",
        "| RStudio         | Integrated development environment for R        |\n",
        "| Apache Hadoop   | Framework for distributed storage and processing|\n",
        "| Apache Spark    | Unified analytics engine for big data processing|\n",
        "| Tableau         | Data visualization tool                         |\n",
        "| Power BI        | Business analytics service by Microsoft         |"
      ],
      "metadata": {
        "id": "PvkVgMraKtGQ"
      }
    },
    {
      "cell_type": "markdown",
      "source": [
        "\n",
        "###Below are a few examples of evaluating arithmetic expressions in Python."
      ],
      "metadata": {
        "id": "kBouUZucKR-S"
      }
    },
    {
      "cell_type": "code",
      "source": [
        "# This a simple arithmetic expression to mutiply then add integers\n",
        "result = (3 * 4) + 5\n",
        "print(result)"
      ],
      "metadata": {
        "colab": {
          "base_uri": "https://localhost:8080/"
        },
        "id": "y3WZqdRTKF5w",
        "outputId": "3de60aca-7b22-48a6-baf9-c754da69b1e0"
      },
      "execution_count": 7,
      "outputs": [
        {
          "output_type": "stream",
          "name": "stdout",
          "text": [
            "17\n"
          ]
        }
      ]
    },
    {
      "cell_type": "code",
      "source": [
        "#This will convert 200 minutes to hours by diving by 60.\n",
        "def min_to_hours(minutes):\n",
        "    hours = minutes / 60\n",
        "    return hours\n",
        "\n",
        "print(min_to_hours(200))"
      ],
      "metadata": {
        "colab": {
          "base_uri": "https://localhost:8080/"
        },
        "id": "2gZ8upNcMSDC",
        "outputId": "e13e1869-f2df-4376-9f22-4bc40ecbc486"
      },
      "execution_count": 8,
      "outputs": [
        {
          "output_type": "stream",
          "name": "stdout",
          "text": [
            "3.3333333333333335\n"
          ]
        }
      ]
    },
    {
      "cell_type": "markdown",
      "source": [
        "##Author\n",
        "Neha Naik"
      ],
      "metadata": {
        "id": "DFCU7oMpOA2e"
      }
    }
  ]
}