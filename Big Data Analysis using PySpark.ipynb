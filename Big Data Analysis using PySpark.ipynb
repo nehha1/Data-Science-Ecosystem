{
  "nbformat": 4,
  "nbformat_minor": 0,
  "metadata": {
    "colab": {
      "provenance": []
    },
    "kernelspec": {
      "name": "python3",
      "display_name": "Python 3"
    },
    "language_info": {
      "name": "python"
    }
  },
  "cells": [
    {
      "cell_type": "code",
      "execution_count": 1,
      "metadata": {
        "colab": {
          "base_uri": "https://localhost:8080/"
        },
        "id": "X880pEvQdus5",
        "outputId": "dae41e5c-b922-4bd8-bd7f-15fccded85e2"
      },
      "outputs": [
        {
          "output_type": "stream",
          "name": "stdout",
          "text": [
            "Collecting pyspark==3.4.0\n",
            "  Downloading pyspark-3.4.0.tar.gz (310.8 MB)\n",
            "\u001b[2K     \u001b[90m━━━━━━━━━━━━━━━━━━━━━━━━━━━━━━━━━━━━━━━━\u001b[0m \u001b[32m310.8/310.8 MB\u001b[0m \u001b[31m3.6 MB/s\u001b[0m eta \u001b[36m0:00:00\u001b[0m\n",
            "\u001b[?25h  Preparing metadata (setup.py) ... \u001b[?25l\u001b[?25hdone\n",
            "Requirement already satisfied: py4j==0.10.9.7 in /usr/local/lib/python3.10/dist-packages (from pyspark==3.4.0) (0.10.9.7)\n",
            "Building wheels for collected packages: pyspark\n",
            "  Building wheel for pyspark (setup.py) ... \u001b[?25l\u001b[?25hdone\n",
            "  Created wheel for pyspark: filename=pyspark-3.4.0-py2.py3-none-any.whl size=311317122 sha256=5fd1621047c9e59429a56a26418fa823e07a9fbbcbfc762983410f8134a71ce0\n",
            "  Stored in directory: /root/.cache/pip/wheels/7b/1b/4b/3363a1d04368e7ff0d408e57ff57966fcdf00583774e761327\n",
            "Successfully built pyspark\n",
            "Installing collected packages: pyspark\n",
            "Successfully installed pyspark-3.4.0\n"
          ]
        }
      ],
      "source": [
        "!pip install pyspark==3.4.0"
      ]
    },
    {
      "cell_type": "code",
      "source": [
        "import pyspark"
      ],
      "metadata": {
        "id": "SKAvDcomebks"
      },
      "execution_count": 2,
      "outputs": []
    },
    {
      "cell_type": "code",
      "source": [
        "from pyspark.sql import SparkSession\n",
        "\n",
        "# Initialize SparkSession\n",
        "spark = SparkSession.builder \\\n",
        "    .appName(\"Multiple Datasets Analysis\") \\\n",
        "    .getOrCreate()\n"
      ],
      "metadata": {
        "id": "TwXuHWJCe9pv"
      },
      "execution_count": 3,
      "outputs": []
    },
    {
      "cell_type": "code",
      "source": [
        "# Load datasets\n",
        "df1 = spark.read.csv(\"Matches.csv\", header=True, inferSchema=True)\n",
        "df2 = spark.read.csv(\"Teams.csv\", header=True, inferSchema=True)\n",
        "df3 = spark.read.csv(\"Teams_in_Matches.csv\", header=True, inferSchema=True)\n",
        "df4 = spark.read.csv(\"Unique_Teams.csv\", header=True, inferSchema=True)\n"
      ],
      "metadata": {
        "id": "QjQ7UnUMfDZ6"
      },
      "execution_count": 5,
      "outputs": []
    },
    {
      "cell_type": "code",
      "source": [
        "# Show schema and first few rows of each dataset\n",
        "print(\"Schema and Sample Data of Dataset 1\")\n",
        "df1.printSchema()\n",
        "df1.show(5)\n",
        "\n",
        "print(\"Schema and Sample Data of Dataset 2\")\n",
        "df2.printSchema()\n",
        "df2.show(5)\n",
        "\n",
        "print(\"Schema and Sample Data of Dataset 3\")\n",
        "df3.printSchema()\n",
        "df3.show(5)\n",
        "\n",
        "print(\"Schema and Sample Data of Dataset 4\")\n",
        "df4.printSchema()\n",
        "df4.show(5)\n"
      ],
      "metadata": {
        "colab": {
          "base_uri": "https://localhost:8080/"
        },
        "id": "xI8yRFJZfo-s",
        "outputId": "cc707610-3675-4f55-9b2c-e6b333ab6767"
      },
      "execution_count": 6,
      "outputs": [
        {
          "output_type": "stream",
          "name": "stdout",
          "text": [
            "Schema and Sample Data of Dataset 1\n",
            "root\n",
            " |-- Match_ID: integer (nullable = true)\n",
            " |-- Div: string (nullable = true)\n",
            " |-- Season: integer (nullable = true)\n",
            " |-- Date: date (nullable = true)\n",
            " |-- HomeTeam: string (nullable = true)\n",
            " |-- AwayTeam: string (nullable = true)\n",
            " |-- FTHG: integer (nullable = true)\n",
            " |-- FTAG: integer (nullable = true)\n",
            " |-- FTR: string (nullable = true)\n",
            "\n",
            "+--------+---+------+----------+-------------+--------------+----+----+---+\n",
            "|Match_ID|Div|Season|      Date|     HomeTeam|      AwayTeam|FTHG|FTAG|FTR|\n",
            "+--------+---+------+----------+-------------+--------------+----+----+---+\n",
            "|       1| D2|  2009|2010-04-04|   Oberhausen|Kaiserslautern|   2|   1|  H|\n",
            "|       2| D2|  2009|2009-11-01|  Munich 1860|Kaiserslautern|   0|   1|  A|\n",
            "|       3| D2|  2009|2009-10-04|Frankfurt FSV|Kaiserslautern|   1|   1|  D|\n",
            "|       4| D2|  2009|2010-02-21|Frankfurt FSV|     Karlsruhe|   2|   1|  H|\n",
            "|       5| D2|  2009|2009-12-06|        Ahlen|     Karlsruhe|   1|   3|  A|\n",
            "+--------+---+------+----------+-------------+--------------+----+----+---+\n",
            "only showing top 5 rows\n",
            "\n",
            "Schema and Sample Data of Dataset 2\n",
            "root\n",
            " |-- Season: integer (nullable = true)\n",
            " |-- TeamName: string (nullable = true)\n",
            " |-- KaderHome: integer (nullable = true)\n",
            " |-- AvgAgeHome: integer (nullable = true)\n",
            " |-- ForeignPlayersHome: integer (nullable = true)\n",
            " |-- OverallMarketValueHome: integer (nullable = true)\n",
            " |-- AvgMarketValueHome: integer (nullable = true)\n",
            " |-- StadiumCapacity: integer (nullable = true)\n",
            "\n",
            "+------+-------------+---------+----------+------------------+----------------------+------------------+---------------+\n",
            "|Season|     TeamName|KaderHome|AvgAgeHome|ForeignPlayersHome|OverallMarketValueHome|AvgMarketValueHome|StadiumCapacity|\n",
            "+------+-------------+---------+----------+------------------+----------------------+------------------+---------------+\n",
            "|  2017|Bayern Munich|       27|        26|                15|             597950000|          22150000|          75000|\n",
            "|  2017|     Dortmund|       33|        25|                18|             416730000|          12630000|          81359|\n",
            "|  2017|   Leverkusen|       31|        24|                15|             222600000|           7180000|          30210|\n",
            "|  2017|   RB Leipzig|       30|        23|                15|             180130000|           6000000|          42959|\n",
            "|  2017|   Schalke 04|       29|        24|                17|             179550000|           6190000|          62271|\n",
            "+------+-------------+---------+----------+------------------+----------------------+------------------+---------------+\n",
            "only showing top 5 rows\n",
            "\n",
            "Schema and Sample Data of Dataset 3\n",
            "root\n",
            " |-- Match_ID: integer (nullable = true)\n",
            " |-- Unique_Team_ID: integer (nullable = true)\n",
            "\n",
            "+--------+--------------+\n",
            "|Match_ID|Unique_Team_ID|\n",
            "+--------+--------------+\n",
            "|       1|            26|\n",
            "|       1|            46|\n",
            "|       2|            26|\n",
            "|       2|            42|\n",
            "|       3|            26|\n",
            "+--------+--------------+\n",
            "only showing top 5 rows\n",
            "\n",
            "Schema and Sample Data of Dataset 4\n",
            "root\n",
            " |-- TeamName: string (nullable = true)\n",
            " |-- Unique_Team_ID: integer (nullable = true)\n",
            "\n",
            "+-------------+--------------+\n",
            "|     TeamName|Unique_Team_ID|\n",
            "+-------------+--------------+\n",
            "|Bayern Munich|             1|\n",
            "|     Dortmund|             2|\n",
            "|   Leverkusen|             3|\n",
            "|   RB Leipzig|             4|\n",
            "|   Schalke 04|             5|\n",
            "+-------------+--------------+\n",
            "only showing top 5 rows\n",
            "\n"
          ]
        }
      ]
    },
    {
      "cell_type": "code",
      "source": [
        "# Assuming the 'Season' column indicates the year\n",
        "recent_d1_matches = df1.filter((df1.Div == 'D1') & (df1.Season >= 2013))"
      ],
      "metadata": {
        "id": "V4Q14Zh8gRx2"
      },
      "execution_count": 10,
      "outputs": []
    },
    {
      "cell_type": "code",
      "source": [
        "from pyspark.sql.functions import count, desc\n",
        "\n",
        "winners_by_season = recent_d1_matches \\\n",
        "    .groupBy('Season', 'HomeTeam') \\\n",
        "    .agg(count('*').alias('wins')) \\\n",
        "    .orderBy('Season', desc('wins')) \\\n",
        "    .dropDuplicates(['Season'])\n",
        "\n",
        "# Show the winners for each season\n",
        "winners_by_season.show()"
      ],
      "metadata": {
        "colab": {
          "base_uri": "https://localhost:8080/"
        },
        "id": "q0xnHHa0gxJL",
        "outputId": "a7bf062b-9cf2-4285-8b67-d5b5406391b9"
      },
      "execution_count": 11,
      "outputs": [
        {
          "output_type": "stream",
          "name": "stdout",
          "text": [
            "+------+----------+----+\n",
            "|Season|  HomeTeam|wins|\n",
            "+------+----------+----+\n",
            "|  2013|Hoffenheim|  17|\n",
            "|  2014|  Freiburg|  17|\n",
            "|  2015| Wolfsburg|  17|\n",
            "|  2016| Wolfsburg|  17|\n",
            "|  2017|  Augsburg|  17|\n",
            "+------+----------+----+\n",
            "\n"
          ]
        }
      ]
    },
    {
      "cell_type": "code",
      "source": [
        "from pyspark.sql.functions import count, desc\n",
        "\n",
        "winners_by_division = df1 \\\n",
        "    .groupBy('Season', 'Div', 'HomeTeam') \\\n",
        "    .agg(count('*').alias('wins')) \\\n",
        "    .orderBy('Season', 'Div', desc('wins')) \\\n",
        "    .dropDuplicates(['Season', 'Div'])\n",
        "\n",
        "# Show the winners for each season and division\n",
        "winners_by_division.show()"
      ],
      "metadata": {
        "colab": {
          "base_uri": "https://localhost:8080/"
        },
        "id": "lfznK_pGg-5-",
        "outputId": "41b99c9c-5b41-4cff-f4cf-4bc754311506"
      },
      "execution_count": 12,
      "outputs": [
        {
          "output_type": "stream",
          "name": "stdout",
          "text": [
            "+------+---+--------------+----+\n",
            "|Season|Div|      HomeTeam|wins|\n",
            "+------+---+--------------+----+\n",
            "|  1993| D1|      Dortmund|  17|\n",
            "|  1993| D2|     Wolfsburg|  19|\n",
            "|  1993| E0|       Arsenal|  21|\n",
            "|  1994| D1|        Bochum|  17|\n",
            "|  1994| D2| Frankfurt FSV|  17|\n",
            "|  1994| E0|         Leeds|  21|\n",
            "|  1995| D1|      Freiburg|  17|\n",
            "|  1995| D2|      Hannover|  17|\n",
            "|  1995| E0|     Blackburn|  19|\n",
            "|  1996| D1|      St Pauli|  17|\n",
            "|  1996| D2|      Mannheim|  17|\n",
            "|  1996| E0|         Leeds|  19|\n",
            "|  1997| D1|        Hertha|  17|\n",
            "|  1997| D2|Greuther Furth|  17|\n",
            "|  1997| E0|      West Ham|  19|\n",
            "|  1998| D1|    Leverkusen|  17|\n",
            "|  1998| D2|Greuther Furth|  17|\n",
            "|  1998| E0|         Derby|  19|\n",
            "|  1999| D1|    Schalke 04|  17|\n",
            "|  1999| D2|      Hannover|  17|\n",
            "+------+---+--------------+----+\n",
            "only showing top 20 rows\n",
            "\n"
          ]
        }
      ]
    },
    {
      "cell_type": "code",
      "source": [
        "from pyspark.sql.functions import count, desc\n",
        "\n",
        "# Filter for D1 division and seasons in the last decade (2013 to 2023)\n",
        "d1_winners = df1 \\\n",
        "    .filter((df1.Div == 'D1') & (df1.Season >= 2013) & (df1.Season <= 2023)) \\\n",
        "    .groupBy('Season', 'HomeTeam') \\\n",
        "    .agg(count('*').alias('wins')) \\\n",
        "    .orderBy('Season', desc('wins')) \\\n",
        "    .dropDuplicates(['Season'])\n",
        "\n",
        "# Show the winners\n",
        "d1_winners.show()"
      ],
      "metadata": {
        "colab": {
          "base_uri": "https://localhost:8080/"
        },
        "id": "jOxywR3YhraM",
        "outputId": "054f601d-2f0a-427c-8501-ab421a7764f7"
      },
      "execution_count": 15,
      "outputs": [
        {
          "output_type": "stream",
          "name": "stdout",
          "text": [
            "+------+----------+----+\n",
            "|Season|  HomeTeam|wins|\n",
            "+------+----------+----+\n",
            "|  2013|Hoffenheim|  17|\n",
            "|  2014|  Freiburg|  17|\n",
            "|  2015| Wolfsburg|  17|\n",
            "|  2016| Wolfsburg|  17|\n",
            "|  2017|  Augsburg|  17|\n",
            "+------+----------+----+\n",
            "\n"
          ]
        }
      ]
    },
    {
      "cell_type": "code",
      "source": [
        "from pyspark.sql.functions import col, lag, when\n",
        "from pyspark.sql.window import Window\n",
        "\n",
        "# Assuming 'Div' indicates the division and a lower letter means a higher division\n",
        "window_spec = Window.orderBy('Season')\n",
        "\n",
        "# Calculate the previous division for each team\n",
        "df_with_prev_div = df1.withColumn(\n",
        "    'PrevDiv',\n",
        "    lag('Div').over(window_spec.partitionBy('HomeTeam'))\n",
        ")\n",
        "\n",
        "# Filter for teams that moved to a lower division\n",
        "relegated_teams = df_with_prev_div.filter(\n",
        "    (df_with_prev_div.Div > df_with_prev_div.PrevDiv) &\n",
        "    (df_with_prev_div.Season >= 2013)\n",
        ").select('HomeTeam', 'Season', 'Div', 'PrevDiv')\n",
        "\n",
        "relegated_teams.show()"
      ],
      "metadata": {
        "colab": {
          "base_uri": "https://localhost:8080/"
        },
        "id": "-NG9myKWiBwa",
        "outputId": "f3f734b9-d4e7-450f-fa01-54c09f0ed881"
      },
      "execution_count": 16,
      "outputs": [
        {
          "output_type": "stream",
          "name": "stdout",
          "text": [
            "+------------------+------+---+-------+\n",
            "|          HomeTeam|Season|Div|PrevDiv|\n",
            "+------------------+------+---+-------+\n",
            "|      Braunschweig|  2014| D2|     D1|\n",
            "|         Darmstadt|  2017| D2|     D1|\n",
            "|Fortuna Dusseldorf|  2013| D2|     D1|\n",
            "|          Freiburg|  2015| D2|     D1|\n",
            "|    Greuther Furth|  2013| D2|     D1|\n",
            "|          Hannover|  2016| D2|     D1|\n",
            "|        Ingolstadt|  2017| D2|     D1|\n",
            "|          Nurnberg|  2014| D2|     D1|\n",
            "|         Paderborn|  2015| D2|     D1|\n",
            "|         Stuttgart|  2016| D2|     D1|\n",
            "+------------------+------+---+-------+\n",
            "\n"
          ]
        }
      ]
    },
    {
      "cell_type": "code",
      "source": [
        "from pyspark.sql.functions import stddev, col\n",
        "\n",
        "# Filter for D1 (Bundesliga) and last decade\n",
        "bundesliga_last_decade = df1.filter((df1.Div == 'D1') & (df1.Season >= 2013))\n",
        "\n",
        "# Calculate points for each team in each season\n",
        "# (Assuming 3 points for a win, 1 for a draw, 0 for a loss)\n",
        "bundesliga_with_points = bundesliga_last_decade.withColumn(\n",
        "    'HomePoints',\n",
        "    when(col('FTR') == 'H', 3).when(col('FTR') == 'D', 1).otherwise(0)\n",
        ").withColumn(\n",
        "    'AwayPoints',\n",
        "    when(col('FTR') == 'A', 3).when(col('FTR') == 'D', 1).otherwise(0)\n",
        ")\n",
        "\n",
        "# Aggregate points for each team in each season\n",
        "team_points_per_season = bundesliga_with_points.groupBy('Season', 'HomeTeam').sum('HomePoints').union(\n",
        "    bundesliga_with_points.groupBy('Season', 'AwayTeam').sum('AwayPoints')\n",
        ").groupBy('Season', 'HomeTeam').sum('sum(HomePoints)')\n",
        "\n",
        "# Calculate standard deviation of points for each season\n",
        "stddev_points_per_season = team_points_per_season.groupBy('Season').agg(stddev('sum(sum(HomePoints))').alias('stddev_points')).orderBy(desc('stddev_points'))\n",
        "\n",
        "# Show the most competitive season\n",
        "stddev_points_per_season.show(4)"
      ],
      "metadata": {
        "colab": {
          "base_uri": "https://localhost:8080/"
        },
        "id": "by4uBr4ajPuR",
        "outputId": "1b4f0b1f-27aa-4eb3-9aa4-4624a7887efa"
      },
      "execution_count": 19,
      "outputs": [
        {
          "output_type": "stream",
          "name": "stdout",
          "text": [
            "+------+------------------+\n",
            "|Season|     stddev_points|\n",
            "+------+------------------+\n",
            "|  2013|17.365355036841475|\n",
            "|  2015|15.656129122007371|\n",
            "|  2016|13.940583534452417|\n",
            "|  2014|13.587287407167308|\n",
            "+------+------------------+\n",
            "only showing top 4 rows\n",
            "\n"
          ]
        }
      ]
    },
    {
      "cell_type": "code",
      "source": [
        "from pyspark.sql.functions import month, sum\n",
        "\n",
        "\n",
        "bundesliga_data = df1.filter(df1.Div == 'D1')\n",
        "bundesliga_with_month = bundesliga_data.withColumn('Month', month(bundesliga_data['Date']))\n",
        "\n",
        "# Calculate total goals scored per month\n",
        "goals_per_month = bundesliga_with_month.groupBy('Month').agg(sum('FTHG').alias('HomeGoals'), sum('FTAG').alias('AwayGoals')) \\\n",
        "    .withColumn('TotalGoals', col('HomeGoals') + col('AwayGoals')) \\\n",
        "    .orderBy(desc('TotalGoals'))\n",
        "\n",
        "# Show the month with the most goals\n",
        "goals_per_month.show(1)"
      ],
      "metadata": {
        "colab": {
          "base_uri": "https://localhost:8080/"
        },
        "id": "jRRFPrHEjeDA",
        "outputId": "ee4ff4e8-36fd-4eed-cbaa-9fc014509dbc"
      },
      "execution_count": 20,
      "outputs": [
        {
          "output_type": "stream",
          "name": "stdout",
          "text": [
            "+-----+---------+---------+----------+\n",
            "|Month|HomeGoals|AwayGoals|TotalGoals|\n",
            "+-----+---------+---------+----------+\n",
            "|    4|     1580|     1082|      2662|\n",
            "+-----+---------+---------+----------+\n",
            "only showing top 1 row\n",
            "\n"
          ]
        }
      ]
    },
    {
      "cell_type": "code",
      "source": [
        "from pyspark.sql.functions import month, mean, col\n",
        "\n",
        "# Assuming 'Date' column exists and is in a format that can be parsed\n",
        "bundesliga_data = df1.filter(df1.Div == 'D1')\n",
        "bundesliga_with_month = bundesliga_data.withColumn('Month', month(bundesliga_data['Date']))\n",
        "\n",
        "# Calculate total goals per match\n",
        "bundesliga_with_total_goals = bundesliga_with_month.withColumn('TotalGoals', col('FTHG') + col('FTAG'))\n",
        "\n",
        "# Calculate average goals per match for each month\n",
        "monthly_performance = bundesliga_with_total_goals.groupBy('Month').agg(mean('TotalGoals').alias('AvgGoalsPerMatch')).orderBy('Month')\n",
        "\n",
        "# Display the performance of each month\n",
        "monthly_performance.show()"
      ],
      "metadata": {
        "colab": {
          "base_uri": "https://localhost:8080/"
        },
        "id": "aNo1wDs6kMRN",
        "outputId": "c44bfbcd-4ae1-4c5a-b41a-5b94184bc089"
      },
      "execution_count": 21,
      "outputs": [
        {
          "output_type": "stream",
          "name": "stdout",
          "text": [
            "+-----+------------------+\n",
            "|Month|  AvgGoalsPerMatch|\n",
            "+-----+------------------+\n",
            "|    1| 2.271698113207547|\n",
            "|    2| 2.475796930342385|\n",
            "|    3|  2.67579408543264|\n",
            "|    4|2.5645472061657033|\n",
            "|    5|3.0875370919881306|\n",
            "|    6|3.7777777777777777|\n",
            "|    7|              1.75|\n",
            "|    8|2.8117469879518073|\n",
            "|    9|2.7309941520467835|\n",
            "|   10|2.7037037037037037|\n",
            "|   11| 2.803673938002296|\n",
            "|   12|2.5015151515151515|\n",
            "+-----+------------------+\n",
            "\n"
          ]
        }
      ]
    }
  ]
}